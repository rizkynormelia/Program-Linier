{
 "cells": [
  {
   "cell_type": "markdown",
   "metadata": {},
   "source": [
    "# Optimalisasi Program Linier"
   ]
  },
  {
   "cell_type": "markdown",
   "metadata": {},
   "source": [
    "## Studi Kasus"
   ]
  },
  {
   "cell_type": "markdown",
   "metadata": {},
   "source": [
    "Tentukan paket berlibur mana yang terbaik untuk seseorang yang ingin pergi berlibur namun terkendala akan keterbatasan waktu dan ingin mengeluarkan biaya yang paling minimum untuk kegiatan berlibur ini."
   ]
  },
  {
   "cell_type": "markdown",
   "metadata": {},
   "source": [
    "* Tujuan : meminimumkan biaya berlibur dengan memilih paket liburan yang optimal\n",
    "* Program linier : meminimumkan\n",
    "* Variabel keputusan : variabel biner (membeli paket atau tidak)\n",
    "* Batasan : jumlah yang terbatas"
   ]
  },
  {
   "cell_type": "markdown",
   "metadata": {},
   "source": [
    "## Penyelesaian"
   ]
  },
  {
   "cell_type": "code",
   "execution_count": 2,
   "metadata": {
    "colab": {
     "base_uri": "https://localhost:8080/",
     "height": 51
    },
    "id": "CIzTyFSvTaoS",
    "outputId": "46a38c2a-cdd8-4d2d-b494-78832c04c917"
   },
   "outputs": [
    {
     "name": "stdout",
     "output_type": "stream",
     "text": [
      "Collecting pulp\n",
      "  Downloading PuLP-2.7.0-py3-none-any.whl (14.3 MB)\n",
      "Installing collected packages: pulp\n",
      "Successfully installed pulp-2.7.0\n",
      "Note: you may need to restart the kernel to use updated packages.\n"
     ]
    }
   ],
   "source": [
    "pip install pulp"
   ]
  },
  {
   "cell_type": "code",
   "execution_count": 3,
   "metadata": {
    "id": "scSu3i84Tde9"
   },
   "outputs": [],
   "source": [
    "from pulp import *\n",
    "import numpy as np\n",
    "import pandas as pd\n",
    "import re\n",
    "import matplotlib.pyplot as plt\n",
    "from IPython.display import Image\n",
    "%matplotlib inline"
   ]
  },
  {
   "cell_type": "code",
   "execution_count": 4,
   "metadata": {
    "colab": {
     "base_uri": "https://localhost:8080/",
     "height": 204
    },
    "id": "1TZjQgfjUrmV",
    "outputId": "cfe10dc8-7e7b-4d26-ccf8-4fa82e64ecc8"
   },
   "outputs": [
    {
     "data": {
      "text/html": [
       "<div>\n",
       "<style scoped>\n",
       "    .dataframe tbody tr th:only-of-type {\n",
       "        vertical-align: middle;\n",
       "    }\n",
       "\n",
       "    .dataframe tbody tr th {\n",
       "        vertical-align: top;\n",
       "    }\n",
       "\n",
       "    .dataframe thead th {\n",
       "        text-align: right;\n",
       "    }\n",
       "</style>\n",
       "<table border=\"1\" class=\"dataframe\">\n",
       "  <thead>\n",
       "    <tr style=\"text-align: right;\">\n",
       "      <th></th>\n",
       "      <th>destination</th>\n",
       "      <th>duration</th>\n",
       "      <th>cost</th>\n",
       "      <th>description</th>\n",
       "    </tr>\n",
       "  </thead>\n",
       "  <tbody>\n",
       "    <tr>\n",
       "      <th>0</th>\n",
       "      <td>Baja</td>\n",
       "      <td>7</td>\n",
       "      <td>899</td>\n",
       "      <td>Hike Bike and Sea Kayak and more on a Remote P...</td>\n",
       "    </tr>\n",
       "    <tr>\n",
       "      <th>1</th>\n",
       "      <td>Nepal</td>\n",
       "      <td>11</td>\n",
       "      <td>899</td>\n",
       "      <td>Explore the land and culture of the Himalayas....</td>\n",
       "    </tr>\n",
       "    <tr>\n",
       "      <th>2</th>\n",
       "      <td>Spain</td>\n",
       "      <td>8</td>\n",
       "      <td>568</td>\n",
       "      <td>Sport climb &amp; deep water solo in Mallorca. Dis...</td>\n",
       "    </tr>\n",
       "    <tr>\n",
       "      <th>3</th>\n",
       "      <td>Yosemite</td>\n",
       "      <td>5</td>\n",
       "      <td>750</td>\n",
       "      <td>Guided hiking through stunning high country. E...</td>\n",
       "    </tr>\n",
       "    <tr>\n",
       "      <th>4</th>\n",
       "      <td>Utah</td>\n",
       "      <td>6</td>\n",
       "      <td>1356</td>\n",
       "      <td>Hike. Canyoneer. Rock Climb. and more!. Experi...</td>\n",
       "    </tr>\n",
       "  </tbody>\n",
       "</table>\n",
       "</div>"
      ],
      "text/plain": [
       "  destination  duration  cost  \\\n",
       "0        Baja         7   899   \n",
       "1       Nepal        11   899   \n",
       "2       Spain         8   568   \n",
       "3    Yosemite         5   750   \n",
       "4        Utah         6  1356   \n",
       "\n",
       "                                         description  \n",
       "0  Hike Bike and Sea Kayak and more on a Remote P...  \n",
       "1  Explore the land and culture of the Himalayas....  \n",
       "2  Sport climb & deep water solo in Mallorca. Dis...  \n",
       "3  Guided hiking through stunning high country. E...  \n",
       "4  Hike. Canyoneer. Rock Climb. and more!. Experi...  "
      ]
     },
     "execution_count": 4,
     "metadata": {},
     "output_type": "execute_result"
    }
   ],
   "source": [
    "# impor dataset 'the clymb adventures'\n",
    "url = \"https://raw.githubusercontent.com/AnnaNican/optimizers/master/clymb_adventures.csv\"\n",
    "data = pd.read_csv(url, encoding= 'unicode_escape')\n",
    "data[:5]"
   ]
  },
  {
   "cell_type": "code",
   "execution_count": 12,
   "metadata": {
    "colab": {
     "base_uri": "https://localhost:8080/",
     "height": 284
    },
    "id": "EG2ptFZbVS3Q",
    "outputId": "ca74b4d2-25af-48cc-a258-a48f6b03f335"
   },
   "outputs": [
    {
     "data": {
      "image/png": "[encoded data removed]",
      "text/plain": [
       "<Figure size 1080x720 with 2 Axes>"
      ]
     },
     "metadata": {
      "needs_background": "light"
     },
     "output_type": "display_data"
    }
   ],
   "source": [
    "# visualisasi destination berdasarkan cost dan duration\n",
    "fig, axs = plt.subplots(1,2, figsize=(15,10))\n",
    "my_plot = data[['destination', 'cost']].plot(kind='bar', title=\"Destination by Cost\", ax=axs[0])\n",
    "my_plot = data[['destination', 'duration']].plot(kind='bar', title=\"Destination by Duration\", ax=axs[1])\n",
    "plt.xticks(rotation=90)\n",
    "plt.show()"
   ]
  },
  {
   "cell_type": "code",
   "execution_count": 13,
   "metadata": {
    "id": "qlxUfOdFUtLi"
   },
   "outputs": [],
   "source": [
    "# membuat objek linier program (LP) dengan atribut masalahnya adalah minimize -> karena ingin meminimasisasi biaya\n",
    "prob = pulp.LpProblem('GoingOnVacation', LpMinimize)"
   ]
  },
  {
   "cell_type": "code",
   "execution_count": 14,
   "metadata": {
    "colab": {
     "base_uri": "https://localhost:8080/",
     "height": 71
    },
    "id": "MW5HCDQZZsw7",
    "outputId": "984e3a63-22e1-4485-c5d0-49e78faf7bfa"
   },
   "outputs": [
    {
     "name": "stdout",
     "output_type": "stream",
     "text": [
      "Total number of decision_variables: 42\n",
      "Array with Decision Variables:[x0, x1, x2, x3, x4, x5, x6, x7, x8, x9, x10, x11, x12, x13, x14, x15, x16, x17, x18, x19, x20, x21, x22, x23, x24, x25, x26, x27, x28, x29, x30, x31, x32, x33, x34, x35, x36, x37, x38, x39, x40, x41]\n"
     ]
    }
   ],
   "source": [
    "# membuat variabel keputusan (banyaknya pilihan paket liburan yang ditawarkan)\n",
    "decision_variables = []\n",
    "for rownum, row in data.iterrows():\n",
    "  variable = str('x' + str(rownum))\n",
    "  variable = pulp.LpVariable(str(variable), lowBound = 0, upBound = 1,cat= 'Integer') #make variables binary\n",
    "  decision_variables.append(variable)\n",
    "\n",
    "print (\"Total number of decision_variables: \" + str(len(decision_variables)))\n",
    "print (\"Array with Decision Variables:\" + str(decision_variables))"
   ]
  },
  {
   "cell_type": "markdown",
   "metadata": {
    "id": "1QTvYFurbyh3"
   },
   "source": [
    "Diperoleh sebanyak 42 variabel pilihan paket"
   ]
  },
  {
   "cell_type": "code",
   "execution_count": 15,
   "metadata": {
    "colab": {
     "base_uri": "https://localhost:8080/",
     "height": 54
    },
    "id": "WHvqFHLHgHRP",
    "outputId": "c0a57361-ab76-435c-aa15-41acc0346ec1"
   },
   "outputs": [
    {
     "name": "stdout",
     "output_type": "stream",
     "text": [
      "Optimization function: 899*x0 + 899*x1 + 399*x10 + 385*x11 + 439*x12 + 339*x13 + 399*x14 + 265*x15 + 849*x16 + 1799*x17 + 1799*x18 + 1499*x19 + 568*x2 + 3175*x20 + 599*x21 + 1450*x22 + 399*x23 + 1199*x24 + 2799*x25 + 2675*x26 + 1699*x27 + 599*x28 + 1798*x29 + 750*x3 + 1799*x30 + 1199*x31 + 999*x32 + 1375*x33 + 1199*x34 + 299*x35 + 2898*x36 + 499*x37 + 1499*x38 + 450*x39 + 1356*x4 + 198*x40 + 375*x41 + 680*x5 + 559*x6 + 899*x7 + 1799*x8 + 1625*x9\n"
     ]
    }
   ],
   "source": [
    "# mendefinisikan fungsi tujuan (meminimumkan biaya trip)\n",
    "total_cost = \"\"\n",
    "for rownum, row in data.iterrows():\n",
    "  for i, schedule in enumerate(decision_variables):\n",
    "    if rownum == i:\n",
    "      formula = row['cost']*schedule\n",
    "      total_cost += formula\n",
    "\n",
    "prob += total_cost\n",
    "print (\"Optimization function: \" + str(total_cost))"
   ]
  },
  {
   "cell_type": "code",
   "execution_count": 16,
   "metadata": {
    "colab": {
     "base_uri": "https://localhost:8080/",
     "height": 54
    },
    "id": "aajR8l7egTsW",
    "outputId": "f7c991f8-ddc4-49a9-db14-b55d9db7985c"
   },
   "outputs": [
    {
     "name": "stdout",
     "output_type": "stream",
     "text": [
      "Constrains: 7*x0 + 11*x1 + 2*x10 + 2*x11 + 3*x12 + 2*x13 + 3*x14 + 4*x15 + 7*x16 + 8*x17 + 10*x18 + 7*x19 + 8*x2 + 13*x20 + 3*x21 + 5*x22 + 2*x23 + 5*x24 + 9*x25 + 14*x26 + 8*x27 + 4*x28 + 6*x29 + 5*x3 + 8*x30 + 11*x31 + 8*x32 + 8*x33 + 13*x34 + 4*x35 + 6*x36 + 3*x37 + 5*x38 + 4*x39 + 6*x4 + 2*x40 + 2*x41 + 4*x5 + 4*x6 + 6*x7 + 10*x8 + 7*x9\n"
     ]
    }
   ],
   "source": [
    "# mendefinisikan fungsi batasan: (paket yang dipilih tidak boleh lebih dari waktu yang tersedia untuk liburan yaitu 10 hari)\n",
    "aval_vacation_days = 10\n",
    "total_vacation_days = \"\"\n",
    "for rownum, row in data.iterrows():\n",
    "  for i, schedule in enumerate(decision_variables):\n",
    "    if rownum == i:\n",
    "      formula = row['duration']*schedule\n",
    "      total_vacation_days += formula\n",
    "\n",
    "prob += (total_vacation_days == aval_vacation_days)\n",
    "print(\"Constrains: \" + str(total_vacation_days))"
   ]
  },
  {
   "cell_type": "code",
   "execution_count": 17,
   "metadata": {
    "colab": {
     "base_uri": "https://localhost:8080/",
     "height": 1000
    },
    "id": "JF8SqxH9hRK4",
    "outputId": "a6ff8976-ffa7-486b-e975-02dec6845034"
   },
   "outputs": [
    {
     "name": "stdout",
     "output_type": "stream",
     "text": [
      "GoingOnVacation:\n",
      "MINIMIZE\n",
      "899*x0 + 899*x1 + 399*x10 + 385*x11 + 439*x12 + 339*x13 + 399*x14 + 265*x15 + 849*x16 + 1799*x17 + 1799*x18 + 1499*x19 + 568*x2 + 3175*x20 + 599*x21 + 1450*x22 + 399*x23 + 1199*x24 + 2799*x25 + 2675*x26 + 1699*x27 + 599*x28 + 1798*x29 + 750*x3 + 1799*x30 + 1199*x31 + 999*x32 + 1375*x33 + 1199*x34 + 299*x35 + 2898*x36 + 499*x37 + 1499*x38 + 450*x39 + 1356*x4 + 198*x40 + 375*x41 + 680*x5 + 559*x6 + 899*x7 + 1799*x8 + 1625*x9 + 0\n",
      "SUBJECT TO\n",
      "_C1: 7 x0 + 11 x1 + 2 x10 + 2 x11 + 3 x12 + 2 x13 + 3 x14 + 4 x15 + 7 x16\n",
      " + 8 x17 + 10 x18 + 7 x19 + 8 x2 + 13 x20 + 3 x21 + 5 x22 + 2 x23 + 5 x24\n",
      " + 9 x25 + 14 x26 + 8 x27 + 4 x28 + 6 x29 + 5 x3 + 8 x30 + 11 x31 + 8 x32\n",
      " + 8 x33 + 13 x34 + 4 x35 + 6 x36 + 3 x37 + 5 x38 + 4 x39 + 6 x4 + 2 x40\n",
      " + 2 x41 + 4 x5 + 4 x6 + 6 x7 + 10 x8 + 7 x9 = 10\n",
      "\n",
      "VARIABLES\n",
      "0 <= x0 <= 1 Integer\n",
      "0 <= x1 <= 1 Integer\n",
      "0 <= x10 <= 1 Integer\n",
      "0 <= x11 <= 1 Integer\n",
      "0 <= x12 <= 1 Integer\n",
      "0 <= x13 <= 1 Integer\n",
      "0 <= x14 <= 1 Integer\n",
      "0 <= x15 <= 1 Integer\n",
      "0 <= x16 <= 1 Integer\n",
      "0 <= x17 <= 1 Integer\n",
      "0 <= x18 <= 1 Integer\n",
      "0 <= x19 <= 1 Integer\n",
      "0 <= x2 <= 1 Integer\n",
      "0 <= x20 <= 1 Integer\n",
      "0 <= x21 <= 1 Integer\n",
      "0 <= x22 <= 1 Integer\n",
      "0 <= x23 <= 1 Integer\n",
      "0 <= x24 <= 1 Integer\n",
      "0 <= x25 <= 1 Integer\n",
      "0 <= x26 <= 1 Integer\n",
      "0 <= x27 <= 1 Integer\n",
      "0 <= x28 <= 1 Integer\n",
      "0 <= x29 <= 1 Integer\n",
      "0 <= x3 <= 1 Integer\n",
      "0 <= x30 <= 1 Integer\n",
      "0 <= x31 <= 1 Integer\n",
      "0 <= x32 <= 1 Integer\n",
      "0 <= x33 <= 1 Integer\n",
      "0 <= x34 <= 1 Integer\n",
      "0 <= x35 <= 1 Integer\n",
      "0 <= x36 <= 1 Integer\n",
      "0 <= x37 <= 1 Integer\n",
      "0 <= x38 <= 1 Integer\n",
      "0 <= x39 <= 1 Integer\n",
      "0 <= x4 <= 1 Integer\n",
      "0 <= x40 <= 1 Integer\n",
      "0 <= x41 <= 1 Integer\n",
      "0 <= x5 <= 1 Integer\n",
      "0 <= x6 <= 1 Integer\n",
      "0 <= x7 <= 1 Integer\n",
      "0 <= x8 <= 1 Integer\n",
      "0 <= x9 <= 1 Integer\n",
      "\n"
     ]
    },
    {
     "data": {
      "text/plain": [
       "[x0,\n",
       " x1,\n",
       " x10,\n",
       " x11,\n",
       " x12,\n",
       " x13,\n",
       " x14,\n",
       " x15,\n",
       " x16,\n",
       " x17,\n",
       " x18,\n",
       " x19,\n",
       " x2,\n",
       " x20,\n",
       " x21,\n",
       " x22,\n",
       " x23,\n",
       " x24,\n",
       " x25,\n",
       " x26,\n",
       " x27,\n",
       " x28,\n",
       " x29,\n",
       " x3,\n",
       " x30,\n",
       " x31,\n",
       " x32,\n",
       " x33,\n",
       " x34,\n",
       " x35,\n",
       " x36,\n",
       " x37,\n",
       " x38,\n",
       " x39,\n",
       " x4,\n",
       " x40,\n",
       " x41,\n",
       " x5,\n",
       " x6,\n",
       " x7,\n",
       " x8,\n",
       " x9]"
      ]
     },
     "execution_count": 17,
     "metadata": {},
     "output_type": "execute_result"
    }
   ],
   "source": [
    "# final format\n",
    "print (prob)\n",
    "prob.writeLP(\"GoingOnVacation.lp\" )"
   ]
  },
  {
   "cell_type": "markdown",
   "metadata": {},
   "source": [
    "Diperoleh hasil tujuan menimimumkan biaya berlibur dengan konstrain durasi waktu serta nilai variabel bertipe binary 0-1."
   ]
  },
  {
   "cell_type": "code",
   "execution_count": 18,
   "metadata": {
    "colab": {
     "base_uri": "https://localhost:8080/",
     "height": 782
    },
    "id": "VjgM8YjNiMr1",
    "outputId": "fbe124f2-fbe9-4026-d181-5e0bd2473b5c"
   },
   "outputs": [
    {
     "name": "stdout",
     "output_type": "stream",
     "text": [
      "Status: Optimal\n",
      "Optimal Solution to the problem:  762.0\n",
      "Individual decision_variables: \n",
      "x0 = 0.0\n",
      "x1 = 0.0\n",
      "x10 = 0.0\n",
      "x11 = 0.0\n",
      "x12 = 0.0\n",
      "x13 = 0.0\n",
      "x14 = 0.0\n",
      "x15 = 1.0\n",
      "x16 = 0.0\n",
      "x17 = 0.0\n",
      "x18 = 0.0\n",
      "x19 = 0.0\n",
      "x2 = 0.0\n",
      "x20 = 0.0\n",
      "x21 = 0.0\n",
      "x22 = 0.0\n",
      "x23 = 0.0\n",
      "x24 = 0.0\n",
      "x25 = 0.0\n",
      "x26 = 0.0\n",
      "x27 = 0.0\n",
      "x28 = 0.0\n",
      "x29 = 0.0\n",
      "x3 = 0.0\n",
      "x30 = 0.0\n",
      "x31 = 0.0\n",
      "x32 = 0.0\n",
      "x33 = 0.0\n",
      "x34 = 0.0\n",
      "x35 = 1.0\n",
      "x36 = 0.0\n",
      "x37 = 0.0\n",
      "x38 = 0.0\n",
      "x39 = 0.0\n",
      "x4 = 0.0\n",
      "x40 = 1.0\n",
      "x41 = 0.0\n",
      "x5 = 0.0\n",
      "x6 = 0.0\n",
      "x7 = 0.0\n",
      "x8 = 0.0\n",
      "x9 = 0.0\n"
     ]
    }
   ],
   "source": [
    "# Nilai optimasi\n",
    "optimization_result = prob.solve()\n",
    "\n",
    "print(\"Status:\", LpStatus[optimization_result])\n",
    "print(\"Optimal Solution to the problem: \", value(prob.objective))\n",
    "print (\"Individual decision_variables: \")\n",
    "for v in prob.variables():\n",
    "  print(v.name, \"=\", v.varValue)"
   ]
  },
  {
   "cell_type": "markdown",
   "metadata": {},
   "source": [
    "#### Tabel Hasil Nilai Optimasi :"
   ]
  },
  {
   "cell_type": "code",
   "execution_count": 19,
   "metadata": {
    "colab": {
     "base_uri": "https://localhost:8080/",
     "height": 1000
    },
    "id": "g2pkjfMXjGNK",
    "outputId": "5a95528e-51f6-4834-c6ed-846d4b482f40"
   },
   "outputs": [
    {
     "data": {
      "text/html": [
       "<div>\n",
       "<style scoped>\n",
       "    .dataframe tbody tr th:only-of-type {\n",
       "        vertical-align: middle;\n",
       "    }\n",
       "\n",
       "    .dataframe tbody tr th {\n",
       "        vertical-align: top;\n",
       "    }\n",
       "\n",
       "    .dataframe thead th {\n",
       "        text-align: right;\n",
       "    }\n",
       "</style>\n",
       "<table border=\"1\" class=\"dataframe\">\n",
       "  <thead>\n",
       "    <tr style=\"text-align: right;\">\n",
       "      <th></th>\n",
       "      <th>destination</th>\n",
       "      <th>duration</th>\n",
       "      <th>cost</th>\n",
       "      <th>description</th>\n",
       "      <th>decision</th>\n",
       "    </tr>\n",
       "  </thead>\n",
       "  <tbody>\n",
       "    <tr>\n",
       "      <th>0</th>\n",
       "      <td>Baja</td>\n",
       "      <td>7</td>\n",
       "      <td>899</td>\n",
       "      <td>Hike Bike and Sea Kayak and more on a Remote P...</td>\n",
       "      <td>0.0</td>\n",
       "    </tr>\n",
       "    <tr>\n",
       "      <th>1</th>\n",
       "      <td>Nepal</td>\n",
       "      <td>11</td>\n",
       "      <td>899</td>\n",
       "      <td>Explore the land and culture of the Himalayas....</td>\n",
       "      <td>0.0</td>\n",
       "    </tr>\n",
       "    <tr>\n",
       "      <th>2</th>\n",
       "      <td>Spain</td>\n",
       "      <td>8</td>\n",
       "      <td>568</td>\n",
       "      <td>Sport climb &amp; deep water solo in Mallorca. Dis...</td>\n",
       "      <td>0.0</td>\n",
       "    </tr>\n",
       "    <tr>\n",
       "      <th>3</th>\n",
       "      <td>Yosemite</td>\n",
       "      <td>5</td>\n",
       "      <td>750</td>\n",
       "      <td>Guided hiking through stunning high country. E...</td>\n",
       "      <td>0.0</td>\n",
       "    </tr>\n",
       "    <tr>\n",
       "      <th>4</th>\n",
       "      <td>Utah</td>\n",
       "      <td>6</td>\n",
       "      <td>1356</td>\n",
       "      <td>Hike. Canyoneer. Rock Climb. and more!. Experi...</td>\n",
       "      <td>0.0</td>\n",
       "    </tr>\n",
       "    <tr>\n",
       "      <th>5</th>\n",
       "      <td>Utah</td>\n",
       "      <td>4</td>\n",
       "      <td>680</td>\n",
       "      <td>Ride mountain bike through Canyonlands. Follow...</td>\n",
       "      <td>0.0</td>\n",
       "    </tr>\n",
       "    <tr>\n",
       "      <th>6</th>\n",
       "      <td>San Juan Islands</td>\n",
       "      <td>4</td>\n",
       "      <td>559</td>\n",
       "      <td>Kayak in search of orca whales. Kayak amongst ...</td>\n",
       "      <td>0.0</td>\n",
       "    </tr>\n",
       "    <tr>\n",
       "      <th>7</th>\n",
       "      <td>Oregon</td>\n",
       "      <td>6</td>\n",
       "      <td>899</td>\n",
       "      <td>Circumnavigate Crater Lake. Experience the pri...</td>\n",
       "      <td>0.0</td>\n",
       "    </tr>\n",
       "    <tr>\n",
       "      <th>8</th>\n",
       "      <td>Hawaii</td>\n",
       "      <td>10</td>\n",
       "      <td>1799</td>\n",
       "      <td>Surf. Hike. Zipline. Swim. Snorkel. And more!....</td>\n",
       "      <td>0.0</td>\n",
       "    </tr>\n",
       "    <tr>\n",
       "      <th>9</th>\n",
       "      <td>Alaska</td>\n",
       "      <td>7</td>\n",
       "      <td>1625</td>\n",
       "      <td>Wilderness Packrafting. Packrafting is quickly...</td>\n",
       "      <td>0.0</td>\n",
       "    </tr>\n",
       "    <tr>\n",
       "      <th>10</th>\n",
       "      <td>New England</td>\n",
       "      <td>2</td>\n",
       "      <td>399</td>\n",
       "      <td>Summit Mt. Washington. Summit the highest moun...</td>\n",
       "      <td>0.0</td>\n",
       "    </tr>\n",
       "    <tr>\n",
       "      <th>11</th>\n",
       "      <td>New England</td>\n",
       "      <td>2</td>\n",
       "      <td>385</td>\n",
       "      <td>Learn to ice climb. Trip for Two!. Grab a frie...</td>\n",
       "      <td>0.0</td>\n",
       "    </tr>\n",
       "    <tr>\n",
       "      <th>12</th>\n",
       "      <td>Colorado</td>\n",
       "      <td>3</td>\n",
       "      <td>439</td>\n",
       "      <td>AIARE Level I Alpine Instructional Course. Ear...</td>\n",
       "      <td>0.0</td>\n",
       "    </tr>\n",
       "    <tr>\n",
       "      <th>13</th>\n",
       "      <td>Colorado</td>\n",
       "      <td>2</td>\n",
       "      <td>339</td>\n",
       "      <td>Learn to ice climb. Learn the basics of ice cl...</td>\n",
       "      <td>0.0</td>\n",
       "    </tr>\n",
       "    <tr>\n",
       "      <th>14</th>\n",
       "      <td>Washington Cascades</td>\n",
       "      <td>3</td>\n",
       "      <td>399</td>\n",
       "      <td>Summit Mt. Adams. Do something that makes you ...</td>\n",
       "      <td>0.0</td>\n",
       "    </tr>\n",
       "    <tr>\n",
       "      <th>15</th>\n",
       "      <td>Maine</td>\n",
       "      <td>4</td>\n",
       "      <td>265</td>\n",
       "      <td>Ride endless singletrack. Escape to Western Ma...</td>\n",
       "      <td>1.0</td>\n",
       "    </tr>\n",
       "    <tr>\n",
       "      <th>16</th>\n",
       "      <td>Peru</td>\n",
       "      <td>7</td>\n",
       "      <td>849</td>\n",
       "      <td>Trek the Inca Trail to Machu Picchu. Trek the ...</td>\n",
       "      <td>0.0</td>\n",
       "    </tr>\n",
       "    <tr>\n",
       "      <th>17</th>\n",
       "      <td>Peru</td>\n",
       "      <td>8</td>\n",
       "      <td>1799</td>\n",
       "      <td>Trek the Inca Trail to Machu Picchu. Air inclu...</td>\n",
       "      <td>0.0</td>\n",
       "    </tr>\n",
       "    <tr>\n",
       "      <th>18</th>\n",
       "      <td>Vietnam</td>\n",
       "      <td>10</td>\n",
       "      <td>1799</td>\n",
       "      <td>Sport climb and deep water solo in Ha Long Bay...</td>\n",
       "      <td>0.0</td>\n",
       "    </tr>\n",
       "    <tr>\n",
       "      <th>19</th>\n",
       "      <td>Patagonia</td>\n",
       "      <td>7</td>\n",
       "      <td>1499</td>\n",
       "      <td>Backcountry ski tour in the Andes. Embark on a...</td>\n",
       "      <td>0.0</td>\n",
       "    </tr>\n",
       "    <tr>\n",
       "      <th>20</th>\n",
       "      <td>Peru and Galapagos</td>\n",
       "      <td>13</td>\n",
       "      <td>3175</td>\n",
       "      <td>Trek the Inca Trail to Machu Picchu and Explor...</td>\n",
       "      <td>0.0</td>\n",
       "    </tr>\n",
       "    <tr>\n",
       "      <th>21</th>\n",
       "      <td>Colorado</td>\n",
       "      <td>3</td>\n",
       "      <td>599</td>\n",
       "      <td>Hut to Hut backcountry skiing in the San Juan ...</td>\n",
       "      <td>0.0</td>\n",
       "    </tr>\n",
       "    <tr>\n",
       "      <th>22</th>\n",
       "      <td>New England</td>\n",
       "      <td>5</td>\n",
       "      <td>1450</td>\n",
       "      <td>Learn to mountaineer &amp; summit two peaks. Learn...</td>\n",
       "      <td>0.0</td>\n",
       "    </tr>\n",
       "    <tr>\n",
       "      <th>23</th>\n",
       "      <td>Colorado</td>\n",
       "      <td>2</td>\n",
       "      <td>399</td>\n",
       "      <td>Lern to Ice Climb in the San Juan Mountains. A...</td>\n",
       "      <td>0.0</td>\n",
       "    </tr>\n",
       "    <tr>\n",
       "      <th>24</th>\n",
       "      <td>Colorado</td>\n",
       "      <td>5</td>\n",
       "      <td>1199</td>\n",
       "      <td>Incrtuctional Winter Mountaineering Course. Sn...</td>\n",
       "      <td>0.0</td>\n",
       "    </tr>\n",
       "    <tr>\n",
       "      <th>25</th>\n",
       "      <td>Ecuador</td>\n",
       "      <td>9</td>\n",
       "      <td>2799</td>\n",
       "      <td>Hike kayak MTB and stay in boutique hotels. Hi...</td>\n",
       "      <td>0.0</td>\n",
       "    </tr>\n",
       "    <tr>\n",
       "      <th>26</th>\n",
       "      <td>Vietnam Thailand and Cambodia</td>\n",
       "      <td>14</td>\n",
       "      <td>2675</td>\n",
       "      <td>Cycle from Saigon to Bangkok. Cycle 400 miles ...</td>\n",
       "      <td>0.0</td>\n",
       "    </tr>\n",
       "    <tr>\n",
       "      <th>27</th>\n",
       "      <td>Patagonia</td>\n",
       "      <td>8</td>\n",
       "      <td>1699</td>\n",
       "      <td>Explore the Southern Ice Field. Travel to a re...</td>\n",
       "      <td>0.0</td>\n",
       "    </tr>\n",
       "    <tr>\n",
       "      <th>28</th>\n",
       "      <td>Dominican Republic</td>\n",
       "      <td>4</td>\n",
       "      <td>599</td>\n",
       "      <td>Learn to kite surf in the Caribbean. The Domin...</td>\n",
       "      <td>0.0</td>\n",
       "    </tr>\n",
       "    <tr>\n",
       "      <th>29</th>\n",
       "      <td>Costa Rica</td>\n",
       "      <td>6</td>\n",
       "      <td>1798</td>\n",
       "      <td>Rainforest sanctuary and retreat. Trip for 2!....</td>\n",
       "      <td>0.0</td>\n",
       "    </tr>\n",
       "    <tr>\n",
       "      <th>30</th>\n",
       "      <td>Crete</td>\n",
       "      <td>8</td>\n",
       "      <td>1799</td>\n",
       "      <td>Kayak stunning Mediterranean coastline. Kayak ...</td>\n",
       "      <td>0.0</td>\n",
       "    </tr>\n",
       "    <tr>\n",
       "      <th>31</th>\n",
       "      <td>Nepal</td>\n",
       "      <td>11</td>\n",
       "      <td>1199</td>\n",
       "      <td>Mountain bike &amp; go on a Jeep safari. This biki...</td>\n",
       "      <td>0.0</td>\n",
       "    </tr>\n",
       "    <tr>\n",
       "      <th>32</th>\n",
       "      <td>Costa Rica</td>\n",
       "      <td>8</td>\n",
       "      <td>999</td>\n",
       "      <td>A Yoga Retreat in Caribbean Paradise. Center y...</td>\n",
       "      <td>0.0</td>\n",
       "    </tr>\n",
       "    <tr>\n",
       "      <th>33</th>\n",
       "      <td>Ecuador</td>\n",
       "      <td>8</td>\n",
       "      <td>1375</td>\n",
       "      <td>Mountain bike and waterfall rappel. Join the b...</td>\n",
       "      <td>0.0</td>\n",
       "    </tr>\n",
       "    <tr>\n",
       "      <th>34</th>\n",
       "      <td>Nepal</td>\n",
       "      <td>13</td>\n",
       "      <td>1199</td>\n",
       "      <td>Rebuild villages and trek the Annapurna region...</td>\n",
       "      <td>0.0</td>\n",
       "    </tr>\n",
       "    <tr>\n",
       "      <th>35</th>\n",
       "      <td>Oregon</td>\n",
       "      <td>4</td>\n",
       "      <td>299</td>\n",
       "      <td>Mountain bike from hut-to-hut on the Mt Hood L...</td>\n",
       "      <td>1.0</td>\n",
       "    </tr>\n",
       "    <tr>\n",
       "      <th>36</th>\n",
       "      <td>Oregon</td>\n",
       "      <td>6</td>\n",
       "      <td>2898</td>\n",
       "      <td>Crater Lake to Bend Cycling Tour. Skirt the ri...</td>\n",
       "      <td>0.0</td>\n",
       "    </tr>\n",
       "    <tr>\n",
       "      <th>37</th>\n",
       "      <td>Oregon</td>\n",
       "      <td>3</td>\n",
       "      <td>499</td>\n",
       "      <td>Raft the John Day River. With very few rapids ...</td>\n",
       "      <td>0.0</td>\n",
       "    </tr>\n",
       "    <tr>\n",
       "      <th>38</th>\n",
       "      <td>Oregon</td>\n",
       "      <td>5</td>\n",
       "      <td>1499</td>\n",
       "      <td>Horsepack-assisted hiking in the Wallowas for ...</td>\n",
       "      <td>0.0</td>\n",
       "    </tr>\n",
       "    <tr>\n",
       "      <th>39</th>\n",
       "      <td>Oregon</td>\n",
       "      <td>4</td>\n",
       "      <td>450</td>\n",
       "      <td>Climb Smith Rock. Journey to the mecca of mode...</td>\n",
       "      <td>0.0</td>\n",
       "    </tr>\n",
       "    <tr>\n",
       "      <th>40</th>\n",
       "      <td>Oregon</td>\n",
       "      <td>2</td>\n",
       "      <td>198</td>\n",
       "      <td>Learn to windsurf in Hood River. Trip for 2!. ...</td>\n",
       "      <td>1.0</td>\n",
       "    </tr>\n",
       "    <tr>\n",
       "      <th>41</th>\n",
       "      <td>Oregon</td>\n",
       "      <td>2</td>\n",
       "      <td>375</td>\n",
       "      <td>Learn to surf &amp; sip on fine whiskey. Need a te...</td>\n",
       "      <td>0.0</td>\n",
       "    </tr>\n",
       "  </tbody>\n",
       "</table>\n",
       "</div>"
      ],
      "text/plain": [
       "                      destination  duration  cost  \\\n",
       "0                            Baja         7   899   \n",
       "1                           Nepal        11   899   \n",
       "2                           Spain         8   568   \n",
       "3                        Yosemite         5   750   \n",
       "4                            Utah         6  1356   \n",
       "5                            Utah         4   680   \n",
       "6                San Juan Islands         4   559   \n",
       "7                          Oregon         6   899   \n",
       "8                          Hawaii        10  1799   \n",
       "9                          Alaska         7  1625   \n",
       "10                    New England         2   399   \n",
       "11                    New England         2   385   \n",
       "12                       Colorado         3   439   \n",
       "13                       Colorado         2   339   \n",
       "14            Washington Cascades         3   399   \n",
       "15                          Maine         4   265   \n",
       "16                           Peru         7   849   \n",
       "17                           Peru         8  1799   \n",
       "18                        Vietnam        10  1799   \n",
       "19                      Patagonia         7  1499   \n",
       "20             Peru and Galapagos        13  3175   \n",
       "21                       Colorado         3   599   \n",
       "22                    New England         5  1450   \n",
       "23                       Colorado         2   399   \n",
       "24                       Colorado         5  1199   \n",
       "25                        Ecuador         9  2799   \n",
       "26  Vietnam Thailand and Cambodia        14  2675   \n",
       "27                      Patagonia         8  1699   \n",
       "28             Dominican Republic         4   599   \n",
       "29                     Costa Rica         6  1798   \n",
       "30                          Crete         8  1799   \n",
       "31                          Nepal        11  1199   \n",
       "32                     Costa Rica         8   999   \n",
       "33                        Ecuador         8  1375   \n",
       "34                          Nepal        13  1199   \n",
       "35                         Oregon         4   299   \n",
       "36                         Oregon         6  2898   \n",
       "37                         Oregon         3   499   \n",
       "38                         Oregon         5  1499   \n",
       "39                         Oregon         4   450   \n",
       "40                         Oregon         2   198   \n",
       "41                         Oregon         2   375   \n",
       "\n",
       "                                          description  decision  \n",
       "0   Hike Bike and Sea Kayak and more on a Remote P...       0.0  \n",
       "1   Explore the land and culture of the Himalayas....       0.0  \n",
       "2   Sport climb & deep water solo in Mallorca. Dis...       0.0  \n",
       "3   Guided hiking through stunning high country. E...       0.0  \n",
       "4   Hike. Canyoneer. Rock Climb. and more!. Experi...       0.0  \n",
       "5   Ride mountain bike through Canyonlands. Follow...       0.0  \n",
       "6   Kayak in search of orca whales. Kayak amongst ...       0.0  \n",
       "7   Circumnavigate Crater Lake. Experience the pri...       0.0  \n",
       "8   Surf. Hike. Zipline. Swim. Snorkel. And more!....       0.0  \n",
       "9   Wilderness Packrafting. Packrafting is quickly...       0.0  \n",
       "10  Summit Mt. Washington. Summit the highest moun...       0.0  \n",
       "11  Learn to ice climb. Trip for Two!. Grab a frie...       0.0  \n",
       "12  AIARE Level I Alpine Instructional Course. Ear...       0.0  \n",
       "13  Learn to ice climb. Learn the basics of ice cl...       0.0  \n",
       "14  Summit Mt. Adams. Do something that makes you ...       0.0  \n",
       "15  Ride endless singletrack. Escape to Western Ma...       1.0  \n",
       "16  Trek the Inca Trail to Machu Picchu. Trek the ...       0.0  \n",
       "17  Trek the Inca Trail to Machu Picchu. Air inclu...       0.0  \n",
       "18  Sport climb and deep water solo in Ha Long Bay...       0.0  \n",
       "19  Backcountry ski tour in the Andes. Embark on a...       0.0  \n",
       "20  Trek the Inca Trail to Machu Picchu and Explor...       0.0  \n",
       "21  Hut to Hut backcountry skiing in the San Juan ...       0.0  \n",
       "22  Learn to mountaineer & summit two peaks. Learn...       0.0  \n",
       "23  Lern to Ice Climb in the San Juan Mountains. A...       0.0  \n",
       "24  Incrtuctional Winter Mountaineering Course. Sn...       0.0  \n",
       "25  Hike kayak MTB and stay in boutique hotels. Hi...       0.0  \n",
       "26  Cycle from Saigon to Bangkok. Cycle 400 miles ...       0.0  \n",
       "27  Explore the Southern Ice Field. Travel to a re...       0.0  \n",
       "28  Learn to kite surf in the Caribbean. The Domin...       0.0  \n",
       "29  Rainforest sanctuary and retreat. Trip for 2!....       0.0  \n",
       "30  Kayak stunning Mediterranean coastline. Kayak ...       0.0  \n",
       "31  Mountain bike & go on a Jeep safari. This biki...       0.0  \n",
       "32  A Yoga Retreat in Caribbean Paradise. Center y...       0.0  \n",
       "33  Mountain bike and waterfall rappel. Join the b...       0.0  \n",
       "34  Rebuild villages and trek the Annapurna region...       0.0  \n",
       "35  Mountain bike from hut-to-hut on the Mt Hood L...       1.0  \n",
       "36  Crater Lake to Bend Cycling Tour. Skirt the ri...       0.0  \n",
       "37  Raft the John Day River. With very few rapids ...       0.0  \n",
       "38  Horsepack-assisted hiking in the Wallowas for ...       0.0  \n",
       "39  Climb Smith Rock. Journey to the mecca of mode...       0.0  \n",
       "40  Learn to windsurf in Hood River. Trip for 2!. ...       1.0  \n",
       "41  Learn to surf & sip on fine whiskey. Need a te...       0.0  "
      ]
     },
     "execution_count": 19,
     "metadata": {},
     "output_type": "execute_result"
    }
   ],
   "source": [
    "variable_name = []\n",
    "variable_value = []\n",
    "\n",
    "for v in prob.variables():\n",
    "  variable_name.append(v.name)\n",
    "  variable_value.append(v.varValue)\n",
    "\n",
    "df = pd.DataFrame({'variable': variable_name, 'value': variable_value})\n",
    "for rownum, row in df.iterrows():\n",
    "  value = re.findall(r'(\\d+)', row['variable'])\n",
    "  df.loc[rownum, 'variable'] = int(value[0])\n",
    "\n",
    "df = df.sort_values(by='variable')\n",
    "\n",
    "#append results\n",
    "for rownum, row in data.iterrows():\n",
    "  for results_rownum, results_row in df.iterrows():\n",
    "    if rownum == results_row['variable']:\n",
    "      data.loc[rownum, 'decision'] = results_row['value']\n",
    "\n",
    "data"
   ]
  },
  {
   "cell_type": "code",
   "execution_count": 20,
   "metadata": {
    "colab": {
     "base_uri": "https://localhost:8080/",
     "height": 142
    },
    "id": "VQlxBqen_0_i",
    "outputId": "5a5a70de-6845-4304-f369-72e0af513bd0"
   },
   "outputs": [
    {
     "data": {
      "text/html": [
       "<div>\n",
       "<style scoped>\n",
       "    .dataframe tbody tr th:only-of-type {\n",
       "        vertical-align: middle;\n",
       "    }\n",
       "\n",
       "    .dataframe tbody tr th {\n",
       "        vertical-align: top;\n",
       "    }\n",
       "\n",
       "    .dataframe thead th {\n",
       "        text-align: right;\n",
       "    }\n",
       "</style>\n",
       "<table border=\"1\" class=\"dataframe\">\n",
       "  <thead>\n",
       "    <tr style=\"text-align: right;\">\n",
       "      <th></th>\n",
       "      <th>destination</th>\n",
       "      <th>duration</th>\n",
       "      <th>cost</th>\n",
       "      <th>description</th>\n",
       "      <th>decision</th>\n",
       "    </tr>\n",
       "  </thead>\n",
       "  <tbody>\n",
       "    <tr>\n",
       "      <th>15</th>\n",
       "      <td>Maine</td>\n",
       "      <td>4</td>\n",
       "      <td>265</td>\n",
       "      <td>Ride endless singletrack. Escape to Western Ma...</td>\n",
       "      <td>1.0</td>\n",
       "    </tr>\n",
       "    <tr>\n",
       "      <th>35</th>\n",
       "      <td>Oregon</td>\n",
       "      <td>4</td>\n",
       "      <td>299</td>\n",
       "      <td>Mountain bike from hut-to-hut on the Mt Hood L...</td>\n",
       "      <td>1.0</td>\n",
       "    </tr>\n",
       "    <tr>\n",
       "      <th>40</th>\n",
       "      <td>Oregon</td>\n",
       "      <td>2</td>\n",
       "      <td>198</td>\n",
       "      <td>Learn to windsurf in Hood River. Trip for 2!. ...</td>\n",
       "      <td>1.0</td>\n",
       "    </tr>\n",
       "  </tbody>\n",
       "</table>\n",
       "</div>"
      ],
      "text/plain": [
       "   destination  duration  cost  \\\n",
       "15       Maine         4   265   \n",
       "35      Oregon         4   299   \n",
       "40      Oregon         2   198   \n",
       "\n",
       "                                          description  decision  \n",
       "15  Ride endless singletrack. Escape to Western Ma...       1.0  \n",
       "35  Mountain bike from hut-to-hut on the Mt Hood L...       1.0  \n",
       "40  Learn to windsurf in Hood River. Trip for 2!. ...       1.0  "
      ]
     },
     "execution_count": 20,
     "metadata": {},
     "output_type": "execute_result"
    }
   ],
   "source": [
    "# filter destinasi yang akan dipilih untuk menyelesaikan permasalahan (destinasi dengan decision bernilai ‘1’)\n",
    "data[data['decision'] == 1]\n"
   ]
  },
  {
   "cell_type": "markdown",
   "metadata": {},
   "source": [
    "Maka paket liburan yang dipilih yaitu paket destination ke Maine selama (duration) 4 hari dengan biaya (cost) sebesar 265 dollar, destination ke Oregon selama (duration) 4 hari dengan biaya (cost) sebesar 299 dollar, dan destination ke Oregon selama (duration) 2 hari dengan biaya (cost) sebesar 19 dollar"
   ]
  },
  {
   "cell_type": "code",
   "execution_count": 21,
   "metadata": {
    "colab": {
     "base_uri": "https://localhost:8080/",
     "height": 34
    },
    "id": "Fyc8irT3_-Ev",
    "outputId": "b23be348-ae59-44d2-b0ab-27c35d30682c"
   },
   "outputs": [
    {
     "data": {
      "text/plain": [
       "762"
      ]
     },
     "execution_count": 21,
     "metadata": {},
     "output_type": "execute_result"
    }
   ],
   "source": [
    "# Total biaya liburan\n",
    "data[data['decision'] == 1]['cost'].sum(axis=0)"
   ]
  },
  {
   "cell_type": "markdown",
   "metadata": {
    "id": "BjPmUjopw5sW"
   },
   "source": [
    "Biaya liburan paling minimum yang dihabiskan selama 10 hari dengan pilihan paket tersebut sebesar 762 dollar."
   ]
  }
 ],
 "metadata": {
  "colab": {
   "provenance": []
  },
  "kernelspec": {
   "display_name": "Python 3",
   "language": "python",
   "name": "python3"
  },
  "language_info": {
   "codemirror_mode": {
    "name": "ipython",
    "version": 3
   },
   "file_extension": ".py",
   "mimetype": "text/x-python",
   "name": "python",
   "nbconvert_exporter": "python",
   "pygments_lexer": "ipython3",
   "version": "3.8.3"
  }
 },
 "nbformat": 4,
 "nbformat_minor": 1
}
